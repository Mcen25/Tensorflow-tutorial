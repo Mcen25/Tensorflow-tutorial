{
 "cells": [
  {
   "cell_type": "code",
   "execution_count": 3,
   "metadata": {},
   "outputs": [
    {
     "name": "stdout",
     "output_type": "stream",
     "text": [
      "Requirement already satisfied: tensorflow in /Library/Frameworks/Python.framework/Versions/3.11/lib/python3.11/site-packages (2.16.2)\n",
      "Collecting tensorflow-gpu\n",
      "  Using cached tensorflow-gpu-2.12.0.tar.gz (2.6 kB)\n",
      "  Preparing metadata (setup.py) ... \u001b[?25ldone\n",
      "\u001b[?25h\u001b[33mWARNING: Ignoring version 2.12.0 of tensorflow-gpu since it has invalid metadata:\n",
      "Requested tensorflow-gpu from https://files.pythonhosted.org/packages/8a/45/fa31ced1db38f9424f262dfbf35747fe5378b5c808cecb373c8cb8e515d3/tensorflow-gpu-2.12.0.tar.gz has invalid metadata: Expected end or semicolon (after name and no valid version specifier)\n",
      "    python_version>\"3.7\"\n",
      "                  ^\n",
      "Please use pip<24.1 if you need to use this version.\u001b[0m\u001b[33m\n",
      "\u001b[0m\u001b[31mERROR: Could not find a version that satisfies the requirement tensorflow-gpu (from versions: 2.12.0)\u001b[0m\u001b[31m\n",
      "\u001b[0m\u001b[31mERROR: No matching distribution found for tensorflow-gpu\u001b[0m\u001b[31m\n",
      "\u001b[0mNote: you may need to restart the kernel to use updated packages.\n"
     ]
    }
   ],
   "source": [
    "%pip install tensorflow tensorflow-gpu opencv-python matplotlib"
   ]
  },
  {
   "cell_type": "code",
   "execution_count": 4,
   "metadata": {},
   "outputs": [],
   "source": [
    "import tensorflow as tf\n",
    "import os"
   ]
  },
  {
   "cell_type": "code",
   "execution_count": 6,
   "metadata": {},
   "outputs": [],
   "source": [
    "gpus = tf.config.experimental.list_physical_devices('GPU')\n",
    "for gpu in gpus:\n",
    "    tf.config.experimental.set_memory_growth(gpu, True)"
   ]
  },
  {
   "cell_type": "code",
   "execution_count": 15,
   "metadata": {},
   "outputs": [],
   "source": [
    "import cv2 as cv\n",
    "import imghdr as ihdr\n",
    "import matplotlib.pyplot as plt"
   ]
  },
  {
   "cell_type": "code",
   "execution_count": 9,
   "metadata": {},
   "outputs": [],
   "source": [
    "data_dir = 'data'"
   ]
  },
  {
   "cell_type": "code",
   "execution_count": 14,
   "metadata": {},
   "outputs": [
    {
     "data": {
      "text/plain": [
       "['05-12-21-happy-people.jpg',\n",
       " 'image22.jpeg',\n",
       " 'Happy.jpg',\n",
       " '7-principles-of-successful-and-happy-people.png',\n",
       " '1687d86811a2c25b877448ed47218131.jpg',\n",
       " '170404-happy-workers-feature.jpg',\n",
       " 'goup-happy-people-group-jumping-isolated-white-background-35582232.jpg',\n",
       " 'happy-family-happy-people.jpg',\n",
       " 'image14.jpeg',\n",
       " 'image15.jpeg',\n",
       " 'maxresdefault2.jpg',\n",
       " 'file-20230208-27-3jttof.jpg',\n",
       " 'habits-of-happy-people-jpg.jpg',\n",
       " '.DS_Store',\n",
       " 'friends_190412.jpg',\n",
       " 'aecd7b04-bb40-42ad-9985-d63a3198a878.jpg',\n",
       " 'getty_107808334_121413.jpg',\n",
       " '1920px-face-smile.svg_.png',\n",
       " 'gdfVVm_MyCRtqpvdkt8vtSB1n_oz_CpwCq6vNMpj0S8.jpg',\n",
       " '7-Habits-of-Happy-People.png',\n",
       " 'group-people-posing-photo-with-words-happy-bottom_577115-4097.jpg',\n",
       " 'image23.jpeg',\n",
       " 'es_27x40_pre_final_en-us_cps_custom-3e4a47095475f6fd5a6da815e62e326879a0bd2c.jpg',\n",
       " 'friends-happy-190821-1490x838.jpg',\n",
       " 'iblp-members-montage-shiny-happy-people.jpg',\n",
       " 'image28.jpeg',\n",
       " 'business-people-succesful-celebrating-group-successful-39416686-800x500.jpg',\n",
       " 'maxresdefault.jpg',\n",
       " 'rating-victory-isolated-white-background-concept-friendship-healthy-91211177.jpg',\n",
       " '1000_F_42220133_toAU6USGY9jVr2XJFLssfG00cSYIJ173.jpg',\n",
       " 'MV5BZjYwNTc1M2MtM2YxMi00YzYyLTkxY2ItY2I3OWE3NDBmNDVmXkEyXkFqcGdeQXVyMjkwOTAyMDU._V1_.jpg',\n",
       " '20150413185238-secrets-happy-entrepreneurs-woman-gratitude-rainbow-.jpeg',\n",
       " 'happy-person.jpeg',\n",
       " 'image32.jpeg',\n",
       " '360_F_484873483_hg1ofIdXbMha5lKEDG3hJBrwKh1oikTq.jpg',\n",
       " '477876381.jpg',\n",
       " 'image_jumpstory-download20230421-155938_7a7b427.jpg',\n",
       " 'GettyImages-871518740.jpg',\n",
       " '360_F_237330799_fynB7PDF8qXuq2qYTEKOa6E0Lt8Vbzv6.jpg',\n",
       " 'nm-how-happiness-affects-health-tnail.jpg',\n",
       " 'Travis-Bradberry-Happy.jpg',\n",
       " '1HEoLBLidT2u4mhJ0oiDgig.png',\n",
       " 'Screen-Shot-2019-09-10-at-2.39.32-PM-1024x621.png',\n",
       " '360_F_165246984_Ihe5LVattiq8zEPivcPqrtM85x7noWJw.jpg',\n",
       " 'FreeVector-Happy-People-Silhouettes.jpg',\n",
       " 'businesswoman-giving-high-five-male-260nw-2226244055.jpg',\n",
       " 'sddefault.jpg',\n",
       " 'happy-woman-in-nature-at-sunset.jpg',\n",
       " 'image25.jpeg',\n",
       " '_happy_jumping_on_beach-40815.jpg',\n",
       " 'image33.jpeg',\n",
       " 'very-happy-people.jpg',\n",
       " '56f455011e0000b300705475.jpeg',\n",
       " 'happy_1_1678616873966_1678616915228_1678616915228.jpg',\n",
       " 'image29.jpeg',\n",
       " 'A_Sep20_14_1189155141.jpg',\n",
       " '360_F_313450534_bHkt5SoetREYpgWO5uOpceVnaDCngOX7.jpg',\n",
       " 'traitshappypeople.jpg',\n",
       " 'getty_143919450_9706479704500104_51510.jpg',\n",
       " 'image10.jpeg',\n",
       " 'Happy-people-800x533.jpg',\n",
       " 'Screen-Shot-2012-10-23-at-12.57.22-PM.png',\n",
       " 'happy-people21.jpg',\n",
       " 'jumping_for_joy_for_3_kinds_of_happy_people.jpg',\n",
       " 'happy-people-group-fb.jpg',\n",
       " '1000_F_257759165_m9yldegJvu8gPi8lOHDM0mwP8LejhmKK.jpg',\n",
       " 'Happy-People-2.jpeg',\n",
       " 'happy-people.png',\n",
       " 'image30.jpeg',\n",
       " 'Successful-year.jpg',\n",
       " 'image31.jpeg',\n",
       " '7VR73K6EP5ETVEOUFANWBUYJEQ.jpg',\n",
       " 'Happy_guy.jpg',\n",
       " 'image27.jpeg',\n",
       " 'physed-happiness-superJumbo.jpg',\n",
       " '7-Habits-of-Happy-People-image.jpeg',\n",
       " 'Happiness-Habits-10-Things-Happy-People-Do-Before-Bed.jpg',\n",
       " '35438_hd.jpg',\n",
       " 'Woman-Smiling-At-Dinner-Party.jpg',\n",
       " '960x0.jpg',\n",
       " 'jumping-and-dancing-happy-people-positive-emotions-set-illustration-free-vector.jpg',\n",
       " 'dv2051009.jpg',\n",
       " 'image9.jpeg',\n",
       " 'smile.woman_.jpg',\n",
       " '1000_F_38064890_H0vhLXPugCMaxRnEzXtASpmml1NKhqrp.jpg',\n",
       " 'flexible.jpg',\n",
       " 'Happy-Guy.jpg',\n",
       " 'getty_152414899_97046097045006_68075.jpg',\n",
       " 'GettyImages-565706549-949x534.jpg',\n",
       " '1-2.jpg',\n",
       " 'what-makes-people-happy1.jpg',\n",
       " 'Happy20People.jpg',\n",
       " 'getty_505175324_2000131020009280246_158016.jpg',\n",
       " 'happy-people-2.jpg',\n",
       " '4239f3d51d092f69d529f372a37b4601.jpg',\n",
       " 'iStock-1366824713.jpg',\n",
       " 'getty_478389113_970647970450091_99776.jpg',\n",
       " 'smiling-woman_W6GFOSFAXA.jpg',\n",
       " 'Copy-of-Rustic-Female-Teen-Magazine-Cover.jpg',\n",
       " 'Couple_Happy_money_062618.jpg',\n",
       " 'web3-happy-people-outside-smile-sun-nature-eduardo-dutra-620857-unsplash.jpg',\n",
       " 'hand-drawn-happy-people-jumping_23-2149092878.jpg',\n",
       " 'Super-Happy-People-yay.jpg',\n",
       " '71hBPTAhIXL._AC_UF10001000_QL80_.jpg',\n",
       " 'brady-bunch-3.jpg',\n",
       " 'happypeople-1024x679.jpg',\n",
       " 'getty_511990984_130175.jpg',\n",
       " 'guilherme-stecanella-375176-unsplash.jpg',\n",
       " 'image3.jpeg',\n",
       " 'depositphotos_208447156-stock-photo-young-happy-people-have-fun.jpg']"
      ]
     },
     "execution_count": 14,
     "metadata": {},
     "output_type": "execute_result"
    }
   ],
   "source": [
    "os.listdir(os.path.join(data_dir, \"Happy people\"))"
   ]
  },
  {
   "cell_type": "code",
   "execution_count": 10,
   "metadata": {},
   "outputs": [],
   "source": [
    "img_exts = ['jpg', 'jpeg', 'png', 'bmp']"
   ]
  },
  {
   "cell_type": "code",
   "execution_count": null,
   "metadata": {},
   "outputs": [],
   "source": [
    "for imageClass in os.listdir(data_dir):\n",
    "    for image in os.listdir(os.path.join(data_dir, imageClass)):\n",
    "        image_path = os.path.join(data_dir, imageClass, image)\n",
    "        try:\n",
    "            img = cv.imread(image_path)\n",
    "            tip = ihdr.what(image_path)\n",
    "            if tip not in img_exts:\n",
    "                print(f\"Invalid image type: {image_path}\")\n",
    "                os.remove(image_path)\n",
    "        except Exception as e:\n",
    "            print(f\"Invalid image: {image_path}\")\n",
    "            # os.remove(image_path)"
   ]
  }
 ],
 "metadata": {
  "kernelspec": {
   "display_name": "Python 3",
   "language": "python",
   "name": "python3"
  },
  "language_info": {
   "codemirror_mode": {
    "name": "ipython",
    "version": 3
   },
   "file_extension": ".py",
   "mimetype": "text/x-python",
   "name": "python",
   "nbconvert_exporter": "python",
   "pygments_lexer": "ipython3",
   "version": "3.11.6"
  }
 },
 "nbformat": 4,
 "nbformat_minor": 2
}
